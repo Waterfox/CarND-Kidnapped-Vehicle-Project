{
 "cells": [
  {
   "cell_type": "code",
   "execution_count": 1,
   "metadata": {
    "collapsed": true
   },
   "outputs": [],
   "source": [
    "x_p= -0.724463\n",
    "y_p= 7.44121\n",
    "\n",
    "x_m= 8.7638\n",
    "y_m= 7.5647\n",
    "\n",
    "p_x= 6.68116\n",
    "p_y=2.48585\n",
    "p_theta= 0.318249\n"
   ]
  },
  {
   "cell_type": "code",
   "execution_count": 17,
   "metadata": {
    "collapsed": false
   },
   "outputs": [],
   "source": [
    "import matplotlib.pyplot as plt\n",
    "%matplotlib inline\n",
    "from math import cos, sin,sqrt"
   ]
  },
  {
   "cell_type": "code",
   "execution_count": 18,
   "metadata": {
    "collapsed": false
   },
   "outputs": [
    {
     "data": {
      "image/png": "[encoded data removed]",
      "text/plain": [
       "<matplotlib.figure.Figure at 0x7fe0eda093c8>"
      ]
     },
     "metadata": {},
     "output_type": "display_data"
    }
   ],
   "source": [
    "plt.plot(x_m,y_m,'ro')\n",
    "plt.quiver(p_x,p_y,cos(p_theta),sin(p_theta))\n",
    "plt.axis([0, 10, 0, 10])\n",
    "plt.show()"
   ]
  },
  {
   "cell_type": "code",
   "execution_count": 21,
   "metadata": {
    "collapsed": false
   },
   "outputs": [
    {
     "name": "stdout",
     "output_type": "stream",
     "text": [
      "7.476393040930165\n",
      "5.489271963758036\n"
     ]
    }
   ],
   "source": [
    "p_dist = sqrt(x_p**2+y_p**2)\n",
    "print (p_dist)\n",
    "\n",
    "m_dist = sqrt((x_m-p_x)**2+(y_m-p_y)**2)\n",
    "print (m_dist)"
   ]
  },
  {
   "cell_type": "code",
   "execution_count": 23,
   "metadata": {
    "collapsed": false
   },
   "outputs": [],
   "source": [
    "x_p= 4.00958\n",
    "y_p= 1.95676\n",
    "x_m= 8.7638 \n",
    "y_m= 7.5647\n",
    "p_x= 6.68116 \n",
    "p_y= 2.48585\n",
    "p_theta= 0.318249\n"
   ]
  },
  {
   "cell_type": "code",
   "execution_count": 24,
   "metadata": {
    "collapsed": false
   },
   "outputs": [
    {
     "data": {
      "image/png": "[encoded data removed]",
      "text/plain": [
       "<matplotlib.figure.Figure at 0x7fe0eda7c278>"
      ]
     },
     "metadata": {},
     "output_type": "display_data"
    }
   ],
   "source": [
    "plt.plot(x_m,y_m,'ro')\n",
    "plt.quiver(p_x,p_y,cos(p_theta),sin(p_theta))\n",
    "plt.axis([0, 10, 0, 10])\n",
    "plt.show()"
   ]
  },
  {
   "cell_type": "code",
   "execution_count": 25,
   "metadata": {
    "collapsed": false
   },
   "outputs": [
    {
     "name": "stdout",
     "output_type": "stream",
     "text": [
      "4.461573878576931\n",
      "5.489271963758036\n"
     ]
    }
   ],
   "source": [
    "p_dist = sqrt(x_p**2+y_p**2)\n",
    "print (p_dist)\n",
    "\n",
    "m_dist = sqrt((x_m-p_x)**2+(y_m-p_y)**2)\n",
    "print (m_dist)"
   ]
  },
  {
   "cell_type": "code",
   "execution_count": null,
   "metadata": {
    "collapsed": true
   },
   "outputs": [],
   "source": []
  }
 ],
 "metadata": {
  "anaconda-cloud": {},
  "kernelspec": {
   "display_name": "Python [conda root]",
   "language": "python",
   "name": "conda-root-py"
  },
  "language_info": {
   "codemirror_mode": {
    "name": "ipython",
    "version": 3
   },
   "file_extension": ".py",
   "mimetype": "text/x-python",
   "name": "python",
   "nbconvert_exporter": "python",
   "pygments_lexer": "ipython3",
   "version": "3.5.2"
  }
 },
 "nbformat": 4,
 "nbformat_minor": 1
}
